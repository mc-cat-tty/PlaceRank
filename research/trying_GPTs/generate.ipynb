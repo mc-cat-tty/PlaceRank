{
 "cells": [
  {
   "cell_type": "code",
   "execution_count": 1,
   "metadata": {},
   "outputs": [],
   "source": [
    "import torch\n",
    "from transformers import GPT2Tokenizer, GPT2LMHeadModel"
   ]
  },
  {
   "cell_type": "code",
   "execution_count": 7,
   "metadata": {},
   "outputs": [],
   "source": [
    "model_type = 'gpt2-medium'\n",
    "model = GPT2LMHeadModel.from_pretrained(model_type)\n",
    "model.config.pad_token_id = model.config.eos_token_id # suppress a warning"
   ]
  },
  {
   "cell_type": "code",
   "execution_count": 10,
   "metadata": {},
   "outputs": [],
   "source": [
    "device = 'cpu'\n",
    "model.to(device)\n",
    "model.eval();\n",
    "def generate(prompt='', num_samples=10, steps=20, do_sample=True):\n",
    "        \n",
    "    tokenizer = GPT2Tokenizer.from_pretrained(model_type)\n",
    "    if prompt == '': \n",
    "        # to create unconditional samples...\n",
    "        # huggingface/transformers tokenizer special cases these strings\n",
    "        prompt = '<|endoftext|>'\n",
    "    encoded_input = tokenizer(prompt, return_tensors='pt').to(device)\n",
    "    x = encoded_input['input_ids']\n",
    "    \n",
    "    # we'll process all desired num_samples in a batch, so expand out the batch dim\n",
    "    x = x.expand(num_samples, -1)\n",
    "\n",
    "    # forward the model `steps` times to get samples, in a batch\n",
    "    y = model.generate(x, max_new_tokens=steps, do_sample=do_sample, top_k=40)\n",
    "    \n",
    "    for i in range(num_samples):\n",
    "        out = tokenizer.decode(y[i].cpu().squeeze())\n",
    "        print('-'*80)\n",
    "        print(out)"
   ]
  },
  {
   "cell_type": "code",
   "execution_count": 18,
   "metadata": {},
   "outputs": [
    {
     "name": "stdout",
     "output_type": "stream",
     "text": [
      "--------------------------------------------------------------------------------\n",
      "what is NLP, and how did they come up with it anyway?\n",
      "\n",
      "NLP is an internet phenomenon that is making big waves these days and it's a topic that is really relevant now as there are quite a number of topics that really seem to be on the rise in the tech world and it's really about creating and using data to make sense of what's happening in the real world.\"\n",
      "\n",
      "What are they doing to understand it? That's what he said. NLP data science is all about doing data analysis, not just data mining.\n",
      "\n",
      "What other aspects of our brains are being studied?\n",
      "\n",
      "We're all born and raised with the capacity to feel empathy for others, especially as that capacity develops early on. This is one of the mechanisms by which we have a socialization to care about other individuals and this can be shown to be a fundamental component of human evolution. Understanding empathy would help to understand how humanity is becoming less interested in protecting other lives and more concerned about its own\n",
      "--------------------------------------------------------------------------------\n",
      "what is NLP?).\n",
      "\n",
      "It is not clear to me why the original code should be left for now. Perhaps some future author could give that a try.\n",
      "\n",
      "Advertisements<|endoftext|><|endoftext|><|endoftext|><|endoftext|><|endoftext|><|endoftext|><|endoftext|><|endoftext|><|endoftext|><|endoftext|><|endoftext|><|endoftext|><|endoftext|><|endoftext|><|endoftext|><|endoftext|><|endoftext|><|endoftext|><|endoftext|><|endoftext|><|endoftext|><|endoftext|><|endoftext|><|endoftext|><|endoftext|><|endoftext|><|endoftext|><|endoftext|><|endoftext|><|endoftext|><|endoftext|><|endoftext|><|endoftext|><|endoftext|><|endoftext|><|endoftext|><|endoftext|><|endoftext|><|endoftext|><|endoftext|><|endoftext|><|endoftext|><|endoftext|><|endoftext|><|endoftext|><|endoftext|><|endoftext|><|endoftext|><|endoftext|><|endoftext|><|endoftext|><|endoftext|><|endoftext|><|endoftext|><|endoftext|><|endoftext|><|endoftext|><|endoftext|><|endoftext|><|endoftext|><|endoftext|><|endoftext|><|endoftext|><|endoftext|><|endoftext|><|endoftext|><|endoftext|><|endoftext|><|endoftext|><|endoftext|><|endoftext|><|endoftext|><|endoftext|><|endoftext|><|endoftext|><|endoftext|><|endoftext|><|endoftext|><|endoftext|><|endoftext|><|endoftext|><|endoftext|><|endoftext|><|endoftext|><|endoftext|><|endoftext|><|endoftext|><|endoftext|><|endoftext|><|endoftext|><|endoftext|><|endoftext|><|endoftext|><|endoftext|><|endoftext|><|endoftext|><|endoftext|><|endoftext|><|endoftext|><|endoftext|><|endoftext|><|endoftext|><|endoftext|><|endoftext|><|endoftext|><|endoftext|><|endoftext|><|endoftext|><|endoftext|><|endoftext|><|endoftext|><|endoftext|><|endoftext|><|endoftext|><|endoftext|><|endoftext|><|endoftext|><|endoftext|><|endoftext|><|endoftext|><|endoftext|><|endoftext|><|endoftext|><|endoftext|><|endoftext|><|endoftext|><|endoftext|><|endoftext|><|endoftext|><|endoftext|><|endoftext|><|endoftext|><|endoftext|><|endoftext|><|endoftext|><|endoftext|><|endoftext|><|endoftext|><|endoftext|><|endoftext|><|endoftext|><|endoftext|><|endoftext|><|endoftext|><|endoftext|><|endoftext|><|endoftext|><|endoftext|><|endoftext|><|endoftext|><|endoftext|><|endoftext|><|endoftext|><|endoftext|><|endoftext|><|endoftext|><|endoftext|><|endoftext|><|endoftext|><|endoftext|><|endoftext|><|endoftext|><|endoftext|><|endoftext|><|endoftext|><|endoftext|><|endoftext|><|endoftext|>\n",
      "--------------------------------------------------------------------------------\n",
      "what is NLP, and is it any good?)\n",
      "\n",
      "A. NLP is one of the many tools that the human brain uses in our relationships with other people. It is a way of interpreting reality and how the brain perceives and understands that reality: It doesn't just show you numbers when you say \"you are the center\", the brain also tells you how much happiness, sadness and pain you feel. It tells you how much people are good to have around you (\"you have a friend today\"), how much it bothers you to be alone (you can imagine how much you loathe your friends) in relationships (some of my personal favorites are \"I have a great relationship and my partner loves me all the time. He always has things in common with me and my partner is so happy for me. I have my own interests, goals, and values to live up to\").\n",
      "\n",
      "B. NLP is just one of many tools the brain uses to interpret the world, however. It's all\n",
      "--------------------------------------------------------------------------------\n",
      "what is NLP?). And we believe that this is a worthwhile practice for you. We offer to help you with learning, but also with mastering your new language.\n",
      "\n",
      "You must also join us for a Skype course and see what the process of getting started in NLP is like.\n",
      "\n",
      "Our web site is\n",
      "\n",
      "NLP with the NLP World Conference:\n",
      "\n",
      "http://www.nlp.com\n",
      "\n",
      "We've received our NLP degree so we know what it's about. If you're interested in joining us to learn how to become proficient in NLP, please sign up to our free webinar series.<|endoftext|><|endoftext|><|endoftext|><|endoftext|><|endoftext|><|endoftext|><|endoftext|><|endoftext|><|endoftext|><|endoftext|><|endoftext|><|endoftext|><|endoftext|><|endoftext|><|endoftext|><|endoftext|><|endoftext|><|endoftext|><|endoftext|><|endoftext|><|endoftext|><|endoftext|><|endoftext|><|endoftext|><|endoftext|><|endoftext|><|endoftext|><|endoftext|><|endoftext|><|endoftext|><|endoftext|><|endoftext|><|endoftext|><|endoftext|><|endoftext|><|endoftext|><|endoftext|><|endoftext|><|endoftext|><|endoftext|><|endoftext|><|endoftext|><|endoftext|><|endoftext|><|endoftext|><|endoftext|><|endoftext|><|endoftext|><|endoftext|><|endoftext|><|endoftext|><|endoftext|><|endoftext|><|endoftext|><|endoftext|><|endoftext|><|endoftext|><|endoftext|><|endoftext|><|endoftext|><|endoftext|><|endoftext|><|endoftext|><|endoftext|><|endoftext|><|endoftext|><|endoftext|><|endoftext|><|endoftext|><|endoftext|><|endoftext|><|endoftext|><|endoftext|><|endoftext|><|endoftext|>\n",
      "--------------------------------------------------------------------------------\n",
      "what is NLP? A. NLP (Neural Network Synthesis).\n",
      "\n",
      "B. The Natural Language Processing technique for the detection of mental information and its representation in language.\n",
      "\n",
      "C. Cognitive linguistics based on natural language processing techniques: understanding human behavior using machine learning techniques.\n",
      "\n",
      "D. NLP and cognitive behavioral theory: the theory that human minds can be modeled by their mental representations.\n",
      "\n",
      "E. An alternative neural network approach to artificial intelligence, based on NLP.\n",
      "\n",
      "F. Practical implications of NLP and cognitive behavioral theory, including the nature of language representations.\n",
      "\n",
      "G. NLP and human behavior in general.\n",
      "\n",
      "I. A review of a comprehensive introduction to the natural language processing and natural language processing theory, starting with an analysis of several of the main debates in NLP and cognitive behavioral theory.\n",
      "\n",
      "2. NLP and cognitive behavioral theory\n",
      "\n",
      "J. A review of the current state of evidence about NLP and the theory of mental\n"
     ]
    }
   ],
   "source": [
    "generate(prompt='what is NLP', num_samples=5, steps=200)\n"
   ]
  }
 ],
 "metadata": {
  "kernelspec": {
   "display_name": "Python 3",
   "language": "python",
   "name": "python3"
  },
  "language_info": {
   "codemirror_mode": {
    "name": "ipython",
    "version": 3
   },
   "file_extension": ".py",
   "mimetype": "text/x-python",
   "name": "python",
   "nbconvert_exporter": "python",
   "pygments_lexer": "ipython3",
   "version": "3.10.12"
  }
 },
 "nbformat": 4,
 "nbformat_minor": 2
}
